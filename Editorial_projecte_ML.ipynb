{
 "cells": [
  {
   "cell_type": "markdown",
   "id": "72590ced-bdb1-4f79-bb56-d9a84eba6ce7",
   "metadata": {},
   "source": [
    "## **ML project to increase book sales of a publishing house**"
   ]
  },
  {
   "cell_type": "markdown",
   "id": "3571f1d0-1966-4ddd-b5eb-2fd70880456d",
   "metadata": {},
   "source": [
    "### **Introduction**"
   ]
  },
  {
   "cell_type": "markdown",
   "id": "6fb49ee5-1cda-4bfc-afa1-5a466ae72d7d",
   "metadata": {},
   "source": [
    "It is a publishing house of different genres books and for a diverse audience."
   ]
  },
  {
   "cell_type": "markdown",
   "id": "63a18c30-da10-44bf-b133-bebd7404a18e",
   "metadata": {},
   "source": [
    "### **Project Objectives**"
   ]
  },
  {
   "cell_type": "markdown",
   "id": "48326728-ba33-4eba-945a-ee07312f16af",
   "metadata": {},
   "source": [
    "*1. What are the business goals?*"
   ]
  },
  {
   "cell_type": "markdown",
   "id": "4d41f407-5016-4424-b282-070a1db91681",
   "metadata": {},
   "source": [
    "Increase sales by assessing current market demand, future trends and audience segmentation to decide which books to publish."
   ]
  },
  {
   "cell_type": "markdown",
   "id": "767646df-134b-49cc-9850-b293e1ef7ddc",
   "metadata": {},
   "source": [
    "*2. What specific decisions or processes do you want to improve or automate with\n",
    "ML?*"
   ]
  },
  {
   "cell_type": "markdown",
   "id": "6a47db41-135e-4fb1-b422-388225430d86",
   "metadata": {},
   "source": [
    "It seeks to optimize the business decisions related to the selection of books to be published, identify what the current demand is (what genres or authors), what type of public consumes the most and predict future trends."
   ]
  },
  {
   "cell_type": "markdown",
   "id": "9f3729b7-49bf-4ea2-8d20-2709221bd05c",
   "metadata": {},
   "source": [
    "*3. Could the issue be resolved non-automated?*"
   ]
  },
  {
   "cell_type": "markdown",
   "id": "c7c1a8ae-ec4b-4a4d-81c3-5928cf95179e",
   "metadata": {},
   "source": [
    "To do an analysis of the current market and future prediction it is necessary to work with very large databases, although it could be done with statistical software, it is much more optimal, fast, efficient, safe and economical to do it automatically with machine learning."
   ]
  },
  {
   "cell_type": "markdown",
   "id": "12e4caa5-5be1-4736-8837-37a3b8960afd",
   "metadata": {},
   "source": [
    "### **Proposed Methodology**"
   ]
  },
  {
   "cell_type": "markdown",
   "id": "1fd45d30-4add-4b72-8ec4-bfbe53f09ee1",
   "metadata": {},
   "source": [
    "*4. What is the best Machine Learning algorithm to solve this problem? How do you justify the choice of this algorithm? What evaluation metrics will be used to measure model performance?*"
   ]
  },
  {
   "cell_type": "markdown",
   "id": "944de2b2-d1d2-4611-a5f7-afe6c9ae3269",
   "metadata": {},
   "source": [
    "To approach the analysis of these problems, I would choose the following algorithms and metrics:\n",
    "For audience segmentation and to see current demand: **K-means o DBSCAN:** Clustering algorithms. Ideal for segmenting audiences into groups that share similar characteristics, such as literary preferences, purchasing behavior or demographics. Analysis of Associations: **Apriori o FP-Growth**.\n",
    "For demand analysis of future trends: **Prophet (de Meta) o XGBoost:** Especially useful for time series when looking to analyze demand over time and find seasonal patterns (for example, higher sales during holidays or specific periods).\n",
    "Finally, to complement the prediction of trends and demand, a recommendation system can suggest which genres or authors to edit based on the reader's behavior: **Matrix Factorization (SVD)**.\n",
    "\n",
    "The evaluation metrics I would choose to ensure the model is more accurate:\n",
    "**RMSE (Root Mean Squared Error):** To measure the error between predicted and actual values. It is especially useful when you want to penalize big mistakes.\n",
    "**MAE (Mean Absolute Error):** It provides a more intuitive measure of error, as it reflects the average magnitude of deviations between predictions and actual values.\n",
    "**R² (Coefficient of Determination):** Measures how much of the variability in spending can be explained by the model.\n",
    "**Accuracy (precision):** Proportion of correct predictions with respect to the total. \n",
    "**F1-score:** Measures the balance between precision and sensitivity, especially useful if there is an imbalance in the classes.\n",
    "**Silhouette Score:** To measure how clearly differentiated the consumer groups are.\n",
    "**Entropy:** To evaluate the diversity within the clusters.\n",
    "**Gini Index:** To analyze the equity of sales between segments.\n",
    "**Support, confidence and lift:** To measure the strength of the associations and discovered rules.\n",
    "**Mean Absolute Percentage Error (MAPE):** To measure the relative error in the predictions.\n",
    "**Precision and Recall:** To evaluate the effectiveness of the model in correctly identifying trends in emerging genres/authors."
   ]
  },
  {
   "cell_type": "markdown",
   "id": "5ae157f5-ca44-4be5-8b79-65f7f1c7e84d",
   "metadata": {},
   "source": [
    "### **Data Available**"
   ]
  },
  {
   "cell_type": "markdown",
   "id": "0b2e4094-0e5c-4393-8ed5-a92665b3b6fa",
   "metadata": {},
   "source": [
    "*5. What data is available to address this issue?*"
   ]
  },
  {
   "cell_type": "markdown",
   "id": "c56e7ab4-84f0-4622-bc7e-138ca199cab0",
   "metadata": {},
   "source": [
    "The available open data are as follows: Google Trends, Google Books Ngrams, Open Library, Amazon Best Sellers, Project Gutenberg, WorldCat (OCLC), Open Data from Government and Cultural Institutions (Data.gov (USA), European Data Portal, INE (National Institute of Statistics - Spain), Internet Archive, PubMed Central (PMC)."
   ]
  },
  {
   "cell_type": "markdown",
   "id": "a49b1970-da3c-4776-a569-5fb4aa67f005",
   "metadata": {},
   "source": [
    "### **Success Metric**"
   ]
  },
  {
   "cell_type": "markdown",
   "id": "7dae18cc-1c6f-4c6c-8be7-72c3fb89816e",
   "metadata": {},
   "source": [
    "*6. What is the success metric for this project?*"
   ]
  },
  {
   "cell_type": "markdown",
   "id": "7d8eeb4b-79b5-4ce0-b3d1-47e9946e8790",
   "metadata": {},
   "source": [
    "Increase in annual sales. This metric would directly reflect the effectiveness of the model in improving the company's decisions."
   ]
  },
  {
   "cell_type": "markdown",
   "id": "2f9f006c-fef1-41f4-bf67-69d4cf5a64a2",
   "metadata": {},
   "source": [
    "### **Ethical and Social Responsibilities**"
   ]
  },
  {
   "cell_type": "markdown",
   "id": "b1cc3789-2c59-4927-ad71-38e07420e1c0",
   "metadata": {},
   "source": [
    "*7. What ethical and social responsibilities are important to consider?*"
   ]
  },
  {
   "cell_type": "markdown",
   "id": "6f1f029a-2cd6-408b-81e2-e700c0ea6912",
   "metadata": {},
   "source": [
    "As the system collects personal data from customers, it is essential to ensure compliance with data protection laws such as the **General Data Protection Regulation (GDPR)** in Europe or other similar regional regulations. **Privacy and Data Protection:** Informed data collection, anonymization and data minimization. **Algorithmic Bias and Justice:** Avoiding biases in data, bias monitoring and transparent decisions. **Transparency and Explainability:** Explainability of the model and business transparency. **Social and Economic Impact:** Impact on personalization and inequality in access to services. **Responsibility in Automatic Decision Making:** Human supervision and response to errors. **Management of technological risks**."
   ]
  }
 ],
 "metadata": {
  "kernelspec": {
   "display_name": "Python 3 (ipykernel)",
   "language": "python",
   "name": "python3"
  },
  "language_info": {
   "codemirror_mode": {
    "name": "ipython",
    "version": 3
   },
   "file_extension": ".py",
   "mimetype": "text/x-python",
   "name": "python",
   "nbconvert_exporter": "python",
   "pygments_lexer": "ipython3",
   "version": "3.12.4"
  }
 },
 "nbformat": 4,
 "nbformat_minor": 5
}
